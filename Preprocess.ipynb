{
 "metadata": {
  "language_info": {
   "codemirror_mode": {
    "name": "ipython",
    "version": 3
   },
   "file_extension": ".py",
   "mimetype": "text/x-python",
   "name": "python",
   "nbconvert_exporter": "python",
   "pygments_lexer": "ipython3",
   "version": "3.7.1-final"
  },
  "orig_nbformat": 2,
  "kernelspec": {
   "name": "python3",
   "display_name": "Python 3.7.1 32-bit",
   "metadata": {
    "interpreter": {
     "hash": "1c4b39dedff77263509bb258ac966a4613d0bf67631881f462c602bc2f55b9e3"
    }
   }
  }
 },
 "nbformat": 4,
 "nbformat_minor": 2,
 "cells": [
  {
   "cell_type": "code",
   "execution_count": 3,
   "metadata": {},
   "outputs": [],
   "source": [
    "import ccs_eeg_semesterproject\n",
    "import mne\n",
    "import ccs_eeg_semesterproject\n",
    "import ccs_eeg_utils\n",
    "from mne_bids import (BIDSPath, read_raw_bids)\n",
    "from matplotlib import pyplot as plt\n",
    "from utils import readRawData"
   ]
  },
  {
   "cell_type": "code",
   "execution_count": 4,
   "metadata": {},
   "outputs": [
    {
     "output_type": "stream",
     "name": "stdout",
     "text": [
      "Reading local\\bids\\sub-002\\ses-P3\\eeg\\sub-002_ses-P3_task-P3_eeg.fdt\n",
      "Reading events from local\\bids\\sub-002\\ses-P3\\eeg\\sub-002_ses-P3_task-P3_events.tsv.\n",
      "Reading 0 ... 414719  =      0.000 ...   404.999 secs...\n",
      "Reading local\\bids\\sub-005\\ses-P3\\eeg\\sub-005_ses-P3_task-P3_eeg.fdt\n",
      "Reading events from local\\bids\\sub-005\\ses-P3\\eeg\\sub-005_ses-P3_task-P3_events.tsv.\n",
      "Reading 0 ... 391167  =      0.000 ...   381.999 secs...\n",
      "Reading local\\bids\\sub-010\\ses-P3\\eeg\\sub-010_ses-P3_task-P3_eeg.fdt\n",
      "Reading events from local\\bids\\sub-010\\ses-P3\\eeg\\sub-010_ses-P3_task-P3_events.tsv.\n",
      "Reading 0 ... 375807  =      0.000 ...   366.999 secs...\n"
     ]
    }
   ],
   "source": [
    "################ load 3 subjects ##################\n",
    "#Load the data\n",
    "raw_sub2 = readRawData(subject_id='002')\n",
    "raw_sub5 = readRawData(subject_id='005')\n",
    "raw_sub10 = readRawData(subject_id='010')"
   ]
  },
  {
   "cell_type": "code",
   "execution_count": null,
   "metadata": {},
   "outputs": [],
   "source": []
  }
 ]
}