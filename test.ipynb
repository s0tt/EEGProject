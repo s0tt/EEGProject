{
 "metadata": {
  "language_info": {
   "codemirror_mode": {
    "name": "ipython",
    "version": 3
   },
   "file_extension": ".py",
   "mimetype": "text/x-python",
   "name": "python",
   "nbconvert_exporter": "python",
   "pygments_lexer": "ipython3",
   "version": "3.7.1-final"
  },
  "orig_nbformat": 2,
  "kernelspec": {
   "name": "python3",
   "display_name": "Python 3.7.1 32-bit",
   "metadata": {
    "interpreter": {
     "hash": "1c4b39dedff77263509bb258ac966a4613d0bf67631881f462c602bc2f55b9e3"
    }
   }
  }
 },
 "nbformat": 4,
 "nbformat_minor": 2,
 "cells": [
  {
   "cell_type": "code",
   "execution_count": 4,
   "metadata": {},
   "outputs": [
    {
     "output_type": "stream",
     "name": "stdout",
     "text": [
      "Reading local\\bids\\sub-002\\ses-P3\\eeg\\sub-002_ses-P3_task-P3_eeg.fdt\n",
      "Reading events from local\\bids\\sub-002\\ses-P3\\eeg\\sub-002_ses-P3_task-P3_events.tsv.\n",
      "Reading 0 ... 414719  =      0.000 ...   404.999 secs...\n"
     ]
    },
    {
     "output_type": "execute_result",
     "data": {
      "text/plain": [
       "<RawEEGLAB | sub-002_ses-P3_task-P3_eeg.fdt, 33 x 414720 (405.0 s), ~104.4 MB, data loaded>"
      ]
     },
     "metadata": {},
     "execution_count": 4
    }
   ],
   "source": [
    "import mne\n",
    "import ccs_eeg_semesterproject\n",
    "import ccs_eeg_utils\n",
    "from mne_bids import (BIDSPath, read_raw_bids)\n",
    "from matplotlib import pyplot as plt\n",
    "\n",
    "\n",
    "\n",
    "\n",
    "################ preprocess 3 subjects ##################\n",
    "#Load the data\n",
    "bids_root = \"local/bids\"\n",
    "subject_id = '002'\n",
    "bids_path = BIDSPath(subject=subject_id,task=\"P3\",session=\"P3\",\n",
    "                     datatype='eeg', suffix='eeg',\n",
    "                     root=bids_root)\n",
    "raw = read_raw_bids(bids_path)\n",
    "#fix the annotations readin\n",
    "ccs_eeg_utils.read_annotations_core(bids_path,raw)\n",
    "raw.load_data()"
   ]
  },
  {
   "cell_type": "code",
   "execution_count": 13,
   "metadata": {},
   "outputs": [
    {
     "output_type": "execute_result",
     "data": {
      "text/plain": [
       "(array([[-0.02001463, -0.02001567, -0.02001645, ..., -0.02004713,\n",
       "         -0.02004823, -0.02004823]]),\n",
       " array([9.76562500e-04, 1.95312500e-03, 2.92968750e-03, ...,\n",
       "        1.95019531e+00, 1.95117188e+00, 1.95214844e+00]))"
      ]
     },
     "metadata": {},
     "execution_count": 13
    }
   ],
   "source": [
    "raw.get_data().shape\n",
    "raw[32,1:2000]"
   ]
  },
  {
   "cell_type": "code",
   "execution_count": null,
   "metadata": {},
   "outputs": [],
   "source": [
    "raw.pick_channels([\"Cz\"])"
   ]
  },
  {
   "cell_type": "code",
   "execution_count": 11,
   "metadata": {},
   "outputs": [
    {
     "output_type": "error",
     "ename": "AttributeError",
     "evalue": "'tuple' object has no attribute 'T'",
     "traceback": [
      "\u001b[1;31m---------------------------------------------------------------------------\u001b[0m",
      "\u001b[1;31mAttributeError\u001b[0m                            Traceback (most recent call last)",
      "\u001b[1;32m<ipython-input-11-7a3845b95396>\u001b[0m in \u001b[0;36m<module>\u001b[1;34m\u001b[0m\n\u001b[1;32m----> 1\u001b[1;33m \u001b[0mplt\u001b[0m\u001b[1;33m.\u001b[0m\u001b[0mplot\u001b[0m\u001b[1;33m(\u001b[0m\u001b[0mraw\u001b[0m\u001b[1;33m[\u001b[0m\u001b[1;36m32\u001b[0m\u001b[1;33m,\u001b[0m\u001b[1;36m1\u001b[0m\u001b[1;33m:\u001b[0m\u001b[1;36m2000\u001b[0m\u001b[1;33m]\u001b[0m\u001b[1;33m.\u001b[0m\u001b[0mT\u001b[0m\u001b[1;33m)\u001b[0m\u001b[1;33m\u001b[0m\u001b[1;33m\u001b[0m\u001b[0m\n\u001b[0m",
      "\u001b[1;31mAttributeError\u001b[0m: 'tuple' object has no attribute 'T'"
     ]
    }
   ],
   "source": [
    "plt.plot(raw[32,1:2000][0].T)"
   ]
  },
  {
   "cell_type": "code",
   "execution_count": null,
   "metadata": {},
   "outputs": [],
   "source": []
  }
 ]
}